{
 "cells": [
  {
   "cell_type": "code",
   "execution_count": 13,
   "metadata": {},
   "outputs": [
    {
     "name": "stdout",
     "output_type": "stream",
     "text": [
      "2.15.0\n"
     ]
    }
   ],
   "source": [
    "import tensorflow as tf\n",
    "print(tf.__version__)"
   ]
  },
  {
   "cell_type": "code",
   "execution_count": 14,
   "metadata": {},
   "outputs": [],
   "source": [
    "import logging\n",
    "logging.basicConfig(level=logging.DEBUG)"
   ]
  },
  {
   "cell_type": "code",
   "execution_count": 15,
   "metadata": {},
   "outputs": [
    {
     "name": "stdout",
     "output_type": "stream",
     "text": [
      "INFO:tensorflow:Assets written to: C:\\Users\\ULTRON\\AppData\\Local\\Temp\\tmpl579yl8a\\assets\n"
     ]
    },
    {
     "name": "stderr",
     "output_type": "stream",
     "text": [
      "INFO:tensorflow:Assets written to: C:\\Users\\ULTRON\\AppData\\Local\\Temp\\tmpl579yl8a\\assets\n"
     ]
    },
    {
     "name": "stdout",
     "output_type": "stream",
     "text": [
      "Model converted and saved as 'drowsy_gru_900_30.tflite'\n"
     ]
    }
   ],
   "source": [
    "# Load the trained Keras model (pastikan model H5 valid)\n",
    "model = tf.keras.models.load_model(\"re_drowsy_gru_900_30.h5\", compile=False)\n",
    "\n",
    "# Create the converter\n",
    "converter = tf.lite.TFLiteConverter.from_keras_model(model)\n",
    "\n",
    "# Enable resource variables to fix TensorListReserve issue\n",
    "converter.experimental_enable_resource_variables = True\n",
    "# converter.experimental_new_converter = True\n",
    "# converter._experimental_allow_all_select_tf_ops = True\n",
    "\n",
    "# Allow unsupported TensorFlow ops (workaround for GRU)\n",
    "converter.target_spec.supported_ops = [\n",
    "    tf.lite.OpsSet.TFLITE_BUILTINS,  # Default TFLite ops\n",
    "    tf.lite.OpsSet.SELECT_TF_OPS     # Select TF ops (enables GRU support)\n",
    "]\n",
    "\n",
    "# Prevent lowering of tensor list ops (fixes TensorArray issue)\n",
    "converter._experimental_lower_tensor_list_ops = False\n",
    "\n",
    "# Optimize for performance\n",
    "converter.optimizations = [tf.lite.Optimize.DEFAULT]\n",
    "\n",
    "try:\n",
    "    tflite_model = converter.convert()\n",
    "    \n",
    "    # Save the converted model\n",
    "    with open(\"drowsy_gru_900_30.tflite\", \"wb\") as f:\n",
    "        f.write(tflite_model)\n",
    "\n",
    "    print(\"Model converted and saved as 'drowsy_gru_900_30.tflite'\")\n",
    "except Exception as e:\n",
    "    print(\"TFLite conversion failed:\", e)"
   ]
  }
 ],
 "metadata": {
  "kernelspec": {
   "display_name": "Python 3",
   "language": "python",
   "name": "python3"
  },
  "language_info": {
   "codemirror_mode": {
    "name": "ipython",
    "version": 3
   },
   "file_extension": ".py",
   "mimetype": "text/x-python",
   "name": "python",
   "nbconvert_exporter": "python",
   "pygments_lexer": "ipython3",
   "version": "3.10.11"
  }
 },
 "nbformat": 4,
 "nbformat_minor": 2
}
